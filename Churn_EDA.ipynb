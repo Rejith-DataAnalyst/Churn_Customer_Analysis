{
 "cells": [
  {
   "cell_type": "markdown",
   "id": "3c8bcc3c",
   "metadata": {},
   "source": [
    "# Customer Churn EDA\n",
    "\n",
    "Exploratory Data Analysis of a customer churn dataset."
   ]
  },
  {
   "cell_type": "code",
   "execution_count": null,
   "id": "0fd1ee21",
   "metadata": {},
   "outputs": [],
   "source": [
    "import pandas as pd\n",
    "import matplotlib.pyplot as plt\n",
    "import seaborn as sns\n",
    "\n",
    "# Load dataset\n",
    "churn_df = pd.read_csv('Churn_Customer_Dataset.csv')\n",
    "churn_df.head()"
   ]
  },
  {
   "cell_type": "code",
   "execution_count": null,
   "id": "4e8a3009",
   "metadata": {},
   "outputs": [],
   "source": [
    "churn_df.info()"
   ]
  },
  {
   "cell_type": "code",
   "execution_count": null,
   "id": "3554472b",
   "metadata": {},
   "outputs": [],
   "source": [
    "churn_df.isnull().sum()"
   ]
  },
  {
   "cell_type": "code",
   "execution_count": null,
   "id": "685b0457",
   "metadata": {},
   "outputs": [],
   "source": [
    "churn_df.describe()"
   ]
  },
  {
   "cell_type": "code",
   "execution_count": null,
   "id": "b911f2e4",
   "metadata": {},
   "outputs": [],
   "source": [
    "contract_churn = churn_df.groupby('Contract')['Churn'].value_counts(normalize=True).unstack().fillna(0)\n",
    "contract_churn[True].plot(kind='bar', color='orange', figsize=(6,4), title='Churn Rate by Contract Type')\n",
    "plt.ylabel('Churn Rate')\n",
    "plt.tight_layout()\n",
    "plt.show()"
   ]
  },
  {
   "cell_type": "code",
   "execution_count": null,
   "id": "5b21cacb",
   "metadata": {},
   "outputs": [],
   "source": [
    "sns.countplot(data=churn_df, x='gender', hue='Churn')\n",
    "plt.title('Churn by Gender')\n",
    "plt.show()"
   ]
  },
  {
   "cell_type": "markdown",
   "id": "730cf42e",
   "metadata": {},
   "source": [
    "### Insights\n",
    "\n",
    "- Month-to-month customers have the highest churn rate.\n",
    "- Long-term contracts show much lower churn.\n",
    "- Gender distribution appears relatively balanced in churn.\n"
   ]
  }
 ],
 "metadata": {},
 "nbformat": 4,
 "nbformat_minor": 5
}
