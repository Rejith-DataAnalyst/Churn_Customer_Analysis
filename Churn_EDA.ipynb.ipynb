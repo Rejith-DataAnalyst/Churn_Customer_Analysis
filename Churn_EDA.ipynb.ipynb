{
 "cells": [
  {
   "cell_type": "markdown",
   "id": "64b497fb",
   "metadata": {},
   "source": [
    "# 📊 Customer Churn Analysis - Full EDA\n",
    "\n",
    "This notebook performs a comprehensive exploratory data analysis on a telecom churn dataset."
   ]
  },
  {
   "cell_type": "code",
   "execution_count": null,
   "id": "2f1d9550",
   "metadata": {},
   "outputs": [],
   "source": [
    "import pandas as pd\n",
    "import numpy as np\n",
    "import matplotlib.pyplot as plt\n",
    "import seaborn as sns\n",
    "%matplotlib inline\n",
    "\n",
    "# Settings\n",
    "sns.set(style='whitegrid')\n",
    "pd.set_option('display.max_columns', None)\n"
   ]
  },
  {
   "cell_type": "code",
   "execution_count": null,
   "id": "090789af",
   "metadata": {},
   "outputs": [],
   "source": [
    "# Load the dataset\n",
    "df = pd.read_csv('Churn_Customer_Dataset.csv')\n",
    "df.head()"
   ]
  },
  {
   "cell_type": "code",
   "execution_count": null,
   "id": "ebd18614",
   "metadata": {},
   "outputs": [],
   "source": [
    "df.info()"
   ]
  },
  {
   "cell_type": "code",
   "execution_count": null,
   "id": "cf2d929e",
   "metadata": {},
   "outputs": [],
   "source": [
    "df.describe()"
   ]
  },
  {
   "cell_type": "code",
   "execution_count": null,
   "id": "cdc368da",
   "metadata": {},
   "outputs": [],
   "source": [
    "df.isnull().sum()"
   ]
  },
  {
   "cell_type": "code",
   "execution_count": null,
   "id": "1b7bec0d",
   "metadata": {},
   "outputs": [],
   "source": [
    "df['TotalCharges'] = pd.to_numeric(df['TotalCharges'], errors='coerce')\n",
    "df['TotalCharges'].fillna(df['TotalCharges'].median(), inplace=True)"
   ]
  },
  {
   "cell_type": "code",
   "execution_count": null,
   "id": "8977be1a",
   "metadata": {},
   "outputs": [],
   "source": [
    "# Feature: tenure_group\n",
    "df['tenure_group'] = pd.cut(df['tenure'], bins=[0, 12, 24, 48, 60, 72],\n",
    "                            labels=['0-12', '13-24', '25-48', '49-60', '61-72'])\n",
    "\n",
    "# Feature: MonthlyProfitMargin (simulated)\n",
    "df['MonthlyProfitMargin'] = df['MonthlyCharges'] * np.where(df['Churn'], -0.15, 0.25)\n"
   ]
  },
  {
   "cell_type": "code",
   "execution_count": null,
   "id": "5893bdda",
   "metadata": {},
   "outputs": [],
   "source": [
    "sns.countplot(data=df, x='Churn')\n",
    "plt.title('Churn Distribution')\n",
    "plt.show()"
   ]
  },
  {
   "cell_type": "code",
   "execution_count": null,
   "id": "728ca1ae",
   "metadata": {},
   "outputs": [],
   "source": [
    "contract_churn = df.groupby('Contract')['Churn'].value_counts(normalize=True).unstack()\n",
    "contract_churn.plot(kind='bar', stacked=True)\n",
    "plt.title('Churn by Contract Type')\n",
    "plt.ylabel('Proportion')\n",
    "plt.xticks(rotation=0)\n",
    "plt.tight_layout()\n",
    "plt.show()"
   ]
  },
  {
   "cell_type": "code",
   "execution_count": null,
   "id": "c9116ce3",
   "metadata": {},
   "outputs": [],
   "source": [
    "corr = df.select_dtypes(include=['int64', 'float64']).corr()\n",
    "plt.figure(figsize=(10,6))\n",
    "sns.heatmap(corr, annot=True, cmap='coolwarm', fmt='.2f')\n",
    "plt.title('Correlation Heatmap')\n",
    "plt.show()"
   ]
  },
  {
   "cell_type": "markdown",
   "id": "9d96010d",
   "metadata": {},
   "source": [
    "## 🔍 Final Business Insights\n",
    "\n",
    "- Month-to-month contracts have the **highest churn rate**.\n",
    "- Customers with **longer tenure** show significantly lower churn.\n",
    "- **Total charges and tenure** have a strong positive correlation.\n",
    "- High monthly charges may indicate **higher churn sensitivity**.\n",
    "- Created feature `tenure_group` helps visualize customer loyalty stages.\n"
   ]
  }
 ],
 "metadata": {},
 "nbformat": 4,
 "nbformat_minor": 5
}
